{
  "nbformat": 4,
  "nbformat_minor": 0,
  "metadata": {
    "colab": {
      "name": "Copy of Sentiment Analysis on Amazon Reviews.ipynb",
      "version": "0.3.2",
      "provenance": [],
      "include_colab_link": true
    },
    "language_info": {
      "codemirror_mode": {
        "name": "ipython",
        "version": 3
      },
      "file_extension": ".py",
      "mimetype": "text/x-python",
      "name": "python",
      "nbconvert_exporter": "python",
      "pygments_lexer": "ipython3",
      "version": "3.7.3"
    },
    "kernelspec": {
      "name": "python3",
      "display_name": "Python 3"
    },
    "accelerator": "GPU"
  },
  "cells": [
    {
      "cell_type": "markdown",
      "metadata": {
        "id": "view-in-github",
        "colab_type": "text"
      },
      "source": [
        "<a href=\"https://colab.research.google.com/github/fluffybird2323/Sentiment-analysis-on-Amazon-reviews-/blob/master/Sentiment_Analysis_on_Amazon_Reviews.ipynb\" target=\"_parent\"><img src=\"https://colab.research.google.com/assets/colab-badge.svg\" alt=\"Open In Colab\"/></a>"
      ]
    },
    {
      "cell_type": "code",
      "metadata": {
        "id": "LutW91yMwRzK",
        "colab_type": "code",
        "colab": {}
      },
      "source": [
        "from keras.preprocessing.text import Tokenizer\n",
        "\n",
        "t = Tokenizer(num_words=10000)\n",
        "\n",
        "with open('Book1.csv',encoding = 'ISO-8859-1') as fin:\n",
        "    for line in fin:      \n",
        "        t.fit_on_texts( line.split()) # Fitting the tokenizer line-by-line.\n",
        "\n",
        "M = []\n",
        "\n",
        "with open('Book1.csv',encoding = 'ISO-8859-1') as fin:\n",
        "    for line in fin:\n",
        "        # Converting the lines into matrix, line-by-line.\n",
        "        m = t.texts_to_matrix([line], mode='binary')[0]\n",
        "        M.append(m)"
      ],
      "execution_count": 0,
      "outputs": []
    },
    {
      "cell_type": "code",
      "metadata": {
        "id": "rBP2BnKiwRzO",
        "colab_type": "code",
        "colab": {}
      },
      "source": [
        "import numpy as np"
      ],
      "execution_count": 0,
      "outputs": []
    },
    {
      "cell_type": "code",
      "metadata": {
        "id": "QRsCcXZjwRzR",
        "colab_type": "code",
        "colab": {}
      },
      "source": [
        "X = np.array(M)\n",
        "train_size = int(len(X) * .75)\n",
        "X = X[:7134]"
      ],
      "execution_count": 0,
      "outputs": []
    },
    {
      "cell_type": "code",
      "metadata": {
        "id": "KbbyadKWwRzU",
        "colab_type": "code",
        "outputId": "14030820-cd97-4c65-a68c-25c13b703653",
        "colab": {
          "base_uri": "https://localhost:8080/",
          "height": 36
        }
      },
      "source": [
        "X.shape"
      ],
      "execution_count": 0,
      "outputs": [
        {
          "output_type": "execute_result",
          "data": {
            "text/plain": [
              "(7134, 10000)"
            ]
          },
          "metadata": {
            "tags": []
          },
          "execution_count": 170
        }
      ]
    },
    {
      "cell_type": "code",
      "metadata": {
        "id": "E2iq8WcfwRze",
        "colab_type": "code",
        "outputId": "89def8f9-7299-4eab-fa8e-03ec33e11275",
        "colab": {
          "base_uri": "https://localhost:8080/",
          "height": 36
        }
      },
      "source": [
        "X[200]"
      ],
      "execution_count": 0,
      "outputs": [
        {
          "output_type": "execute_result",
          "data": {
            "text/plain": [
              "array([0., 0., 0., ..., 0., 0., 0.])"
            ]
          },
          "metadata": {
            "tags": []
          },
          "execution_count": 171
        }
      ]
    },
    {
      "cell_type": "code",
      "metadata": {
        "id": "SBqBjMk2wRzg",
        "colab_type": "code",
        "outputId": "f0dd6b1f-acbf-46f6-81f4-8a51f7ccd2a0",
        "colab": {
          "base_uri": "https://localhost:8080/",
          "height": 152
        }
      },
      "source": [
        "import csv\n",
        "with open('Y.csv') as raw:\n",
        "    stars = np.array(list(csv.reader(raw,delimiter=',')))\n",
        "print(stars.reshape(7134,1))    "
      ],
      "execution_count": 0,
      "outputs": [
        {
          "output_type": "stream",
          "text": [
            "[['4']\n",
            " ['5']\n",
            " ['5']\n",
            " ...\n",
            " ['5']\n",
            " ['5']\n",
            " ['5']]\n"
          ],
          "name": "stdout"
        }
      ]
    },
    {
      "cell_type": "code",
      "metadata": {
        "id": "0qX8bpC7wRzk",
        "colab_type": "code",
        "colab": {}
      },
      "source": [
        "Y = stars \n",
        "from sklearn.utils import shuffle\n",
        "X,Y = shuffle(X,Y)\n",
        "Xtrain = X[:train_size]\n",
        "Xtest = X[train_size:]\n",
        "Ytrain = Y[:train_size] \n",
        "Ytest = Y[train_size:]"
      ],
      "execution_count": 0,
      "outputs": []
    },
    {
      "cell_type": "code",
      "metadata": {
        "id": "3cN24NJlwRzm",
        "colab_type": "code",
        "colab": {}
      },
      "source": [
        "from keras.models import Sequential\n",
        "from keras.layers import *\n",
        "from keras.utils import to_categorical\n",
        "Ytrain = (Ytrain.astype(np.int) -1) >=2\n",
        "Ytest = (Ytest.astype(np.int) -1) >=2"
      ],
      "execution_count": 0,
      "outputs": []
    },
    {
      "cell_type": "code",
      "metadata": {
        "id": "zEbISUnzwRzo",
        "colab_type": "code",
        "outputId": "7f635b92-e71a-4a85-9778-b4608c7b816b",
        "colab": {
          "base_uri": "https://localhost:8080/",
          "height": 36
        }
      },
      "source": [
        "from keras import regularizers\n",
        "from keras import initializers\n",
        "from keras.layers.normalization import BatchNormalization\n",
        "\n",
        "model = Sequential()\n",
        "\n",
        "\n",
        "\n",
        "model.add(Dense(2048, input_dim = 10000, kernel_regularizer=regularizers.l2(0.007),kernel_initializer='glorot_uniform'))\n",
        "#model.add(BatchNormalization())\n",
        "model.add(Activation('elu'))\n",
        "\n",
        "model.add(Dense(128, kernel_regularizer=regularizers.l2(0.003),kernel_initializer='glorot_uniform'))\n",
        "model.add(BatchNormalization())\n",
        "model.add(Activation('relu'))\n",
        "\n",
        "\n",
        "model.add(Dense(1, kernel_regularizer=regularizers.l2(0.01),kernel_initializer='glorot_uniform'))\n",
        "model.add(Activation('tanh'))\n",
        "#model.compile(loss='categorical_crossentropy', optimizer='adam', metrics=['accuracy'])\n",
        "\n",
        "\n",
        "model.compile(loss = 'binary_crossentropy', optimizer = 'adam' , metrics = ['accuracy'])\n",
        "print(model.metrics_names)\n"
      ],
      "execution_count": 0,
      "outputs": [
        {
          "output_type": "stream",
          "text": [
            "['loss', 'acc']\n"
          ],
          "name": "stdout"
        }
      ]
    },
    {
      "cell_type": "code",
      "metadata": {
        "id": "ESK_ZhZ_wRzr",
        "colab_type": "code",
        "outputId": "63f759cd-621b-4a4a-f278-78b792213052",
        "colab": {
          "base_uri": "https://localhost:8080/",
          "height": 422
        }
      },
      "source": [
        "model.summary()"
      ],
      "execution_count": 0,
      "outputs": [
        {
          "output_type": "stream",
          "text": [
            "_________________________________________________________________\n",
            "Layer (type)                 Output Shape              Param #   \n",
            "=================================================================\n",
            "dense_103 (Dense)            (None, 2048)              20482048  \n",
            "_________________________________________________________________\n",
            "activation_103 (Activation)  (None, 2048)              0         \n",
            "_________________________________________________________________\n",
            "dense_104 (Dense)            (None, 128)               262272    \n",
            "_________________________________________________________________\n",
            "batch_normalization_56 (Batc (None, 128)               512       \n",
            "_________________________________________________________________\n",
            "activation_104 (Activation)  (None, 128)               0         \n",
            "_________________________________________________________________\n",
            "dense_105 (Dense)            (None, 1)                 129       \n",
            "_________________________________________________________________\n",
            "activation_105 (Activation)  (None, 1)                 0         \n",
            "=================================================================\n",
            "Total params: 20,744,961\n",
            "Trainable params: 20,744,705\n",
            "Non-trainable params: 256\n",
            "_________________________________________________________________\n"
          ],
          "name": "stdout"
        }
      ]
    },
    {
      "cell_type": "code",
      "metadata": {
        "id": "yx_MpWRkwRzu",
        "colab_type": "code",
        "colab": {}
      },
      "source": [
        "batch_size = 8\n",
        "epochs = 2"
      ],
      "execution_count": 0,
      "outputs": []
    },
    {
      "cell_type": "code",
      "metadata": {
        "id": "ea7kj8jEwRzw",
        "colab_type": "code",
        "outputId": "dc9e863c-88e2-46ff-9977-ae34e01cc68e",
        "colab": {
          "base_uri": "https://localhost:8080/",
          "height": 249
        }
      },
      "source": [
        "history = model.fit(Xtrain, Ytrain, batch_size=batch_size, epochs=epochs, verbose=1, validation_split=0.1)\n",
        "score = model.evaluate(Xtest, Ytest, batch_size=batch_size, verbose=1)\n",
        "score1 = model.evaluate(Xtrain, Ytrain, batch_size=batch_size, verbose=1)\n",
        "print('Test loss:', score[0])\n",
        "print('Test accuracy:', score[1])\n",
        "print('Train loss:', score1[0])\n",
        "print('Train accuracy:', score1[1])"
      ],
      "execution_count": 229,
      "outputs": [
        {
          "output_type": "stream",
          "text": [
            "Train on 4893 samples, validate on 544 samples\n",
            "Epoch 1/2\n",
            "4893/4893 [==============================] - 14s 3ms/step - loss: 2.8498 - acc: 0.9117 - val_loss: 2.9643 - val_acc: 0.9118\n",
            "Epoch 2/2\n",
            "4893/4893 [==============================] - 14s 3ms/step - loss: 2.2178 - acc: 0.9156 - val_loss: 2.0378 - val_acc: 0.9246\n",
            "1697/1697 [==============================] - 1s 526us/step\n",
            "5437/5437 [==============================] - 3s 528us/step\n",
            "Test loss: 2.0104124310723317\n",
            "Test accuracy: 0.924572775486152\n",
            "Train loss: 1.9796384095663266\n",
            "Train accuracy: 0.924958616895274\n"
          ],
          "name": "stdout"
        }
      ]
    },
    {
      "cell_type": "code",
      "metadata": {
        "id": "3xMeGaCI1bvd",
        "colab_type": "code",
        "outputId": "42472633-5210-4a8a-f3a0-0bdececf288a",
        "colab": {
          "base_uri": "https://localhost:8080/",
          "height": 573
        }
      },
      "source": [
        "import matplotlib.pyplot as plt\n",
        "plt.plot(history.history['acc'])\n",
        "plt.plot(history.history['val_acc'])\n",
        "plt.title('model accuracy')\n",
        "plt.ylabel('accuracy')\n",
        "plt.xlabel('epoch')\n",
        "plt.legend(['train', 'test'], loc='upper left')\n",
        "plt.show()\n",
        "# summarize history for loss\n",
        "plt.plot(history.history['loss'])\n",
        "plt.plot(history.history['val_loss'])\n",
        "plt.title('model loss')\n",
        "plt.ylabel('loss')\n",
        "plt.xlabel('epoch')\n",
        "plt.legend(['train', 'test'], loc='upper left')\n",
        "plt.show()\n"
      ],
      "execution_count": 0,
      "outputs": [
        {
          "output_type": "display_data",
          "data": {
            "image/png": "[encoded data removed]",
            "text/plain": [
              "<Figure size 432x288 with 1 Axes>"
            ]
          },
          "metadata": {
            "tags": []
          }
        },
        {
          "output_type": "display_data",
          "data": {
            "image/png": "[encoded data removed]",
            "text/plain": [
              "<Figure size 432x288 with 1 Axes>"
            ]
          },
          "metadata": {
            "tags": []
          }
        }
      ]
    },
    {
      "cell_type": "code",
      "metadata": {
        "id": "Jv4ZyEoH_WfP",
        "colab_type": "code",
        "outputId": "b61d1a70-95fa-4239-ea44-fb276047d73d",
        "colab": {
          "base_uri": "https://localhost:8080/",
          "height": 133
        }
      },
      "source": [
        "score = model.evaluate(Xtest, Ytest, batch_size=batch_size, verbose=1)\n",
        "score1 = model.evaluate(Xtrain, Ytrain, batch_size=batch_size, verbose=1)\n",
        "print('Test loss:', score[0])\n",
        "print('Test accuracy:', score[1])\n",
        "print('Train loss:', score1[0])\n",
        "print('Train accuracy:', score1[1])"
      ],
      "execution_count": 0,
      "outputs": [
        {
          "output_type": "stream",
          "text": [
            "1783/1783 [==============================] - 0s 91us/step\n",
            "5351/5351 [==============================] - 0s 90us/step\n",
            "Test loss: 0.5388383113863223\n",
            "Test accuracy: 0.8658440957828913\n",
            "Train loss: 0.428682910317774\n",
            "Train accuracy: 0.9225565346016703\n"
          ],
          "name": "stdout"
        }
      ]
    },
    {
      "cell_type": "code",
      "metadata": {
        "id": "-0_Ks0poNNoC",
        "colab_type": "code",
        "colab": {}
      },
      "source": [
        "model.save('SA.h5')"
      ],
      "execution_count": 0,
      "outputs": []
    },
    {
      "cell_type": "code",
      "metadata": {
        "id": "J9VL3zmKYhye",
        "colab_type": "code",
        "colab": {}
      },
      "source": [
        "from keras.utils import plot_model\n",
        "plot_model(model, to_file='model.png')"
      ],
      "execution_count": 0,
      "outputs": []
    },
    {
      "cell_type": "code",
      "metadata": {
        "id": "kTOfR9dn5UMh",
        "colab_type": "code",
        "colab": {}
      },
      "source": [
        ""
      ],
      "execution_count": 0,
      "outputs": []
    }
  ]
}