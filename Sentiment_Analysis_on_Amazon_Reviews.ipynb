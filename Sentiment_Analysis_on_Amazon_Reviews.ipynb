{
  "nbformat": 4,
  "nbformat_minor": 0,
  "metadata": {
    "colab": {
      "name": "Copy of Sentiment Analysis on Amazon Reviews.ipynb",
      "version": "0.3.2",
      "provenance": [],
      "include_colab_link": true
    },
    "language_info": {
      "codemirror_mode": {
        "name": "ipython",
        "version": 3
      },
      "file_extension": ".py",
      "mimetype": "text/x-python",
      "name": "python",
      "nbconvert_exporter": "python",
      "pygments_lexer": "ipython3",
      "version": "3.7.3"
    },
    "kernelspec": {
      "name": "python3",
      "display_name": "Python 3"
    },
    "accelerator": "GPU"
  },
  "cells": [
    {
      "cell_type": "markdown",
      "metadata": {
        "id": "view-in-github",
        "colab_type": "text"
      },
      "source": [
        "<a href=\"https://colab.research.google.com/github/fluffybird2323/Star-Prediction-on-Amazon-reviews-/blob/master/Sentiment_Analysis_on_Amazon_Reviews.ipynb\" target=\"_parent\"><img src=\"https://colab.research.google.com/assets/colab-badge.svg\" alt=\"Open In Colab\"/></a>"
      ]
    },
    {
      "cell_type": "code",
      "metadata": {
        "id": "LutW91yMwRzK",
        "colab_type": "code",
        "colab": {
          "base_uri": "https://localhost:8080/",
          "height": 36
        },
        "outputId": "79d746c8-f185-4f0a-eb01-c07a7f9fccde"
      },
      "source": [
        "from keras.preprocessing.text import Tokenizer\n",
        "\n",
        "t = Tokenizer(num_words=8192)\n",
        "\n",
        "with open('Book1.csv',encoding = 'ISO-8859-1') as fin:\n",
        "    for line in fin:      \n",
        "        t.fit_on_texts( line.split()) # Fitting the tokenizer line-by-line.\n",
        "\n",
        "M = []\n",
        "\n",
        "with open('Book1.csv',encoding = 'ISO-8859-1') as fin:\n",
        "    for line in fin:\n",
        "        # Converting the lines into matrix, line-by-line.\n",
        "        m = t.texts_to_matrix([line], mode='binary')[0]\n",
        "        M.append(m)"
      ],
      "execution_count": 1,
      "outputs": [
        {
          "output_type": "stream",
          "text": [
            "Using TensorFlow backend.\n"
          ],
          "name": "stderr"
        }
      ]
    },
    {
      "cell_type": "code",
      "metadata": {
        "id": "rBP2BnKiwRzO",
        "colab_type": "code",
        "colab": {}
      },
      "source": [
        "import numpy as np"
      ],
      "execution_count": 0,
      "outputs": []
    },
    {
      "cell_type": "code",
      "metadata": {
        "id": "QRsCcXZjwRzR",
        "colab_type": "code",
        "colab": {}
      },
      "source": [
        "X = np.array(M)\n",
        "train_size = int(len(X) * .96)\n",
        "X = X[1:]"
      ],
      "execution_count": 0,
      "outputs": []
    },
    {
      "cell_type": "code",
      "metadata": {
        "id": "KbbyadKWwRzU",
        "colab_type": "code",
        "outputId": "006f1ab2-88d3-40cc-b328-958e77a18409",
        "colab": {
          "base_uri": "https://localhost:8080/",
          "height": 36
        }
      },
      "source": [
        "X.shape\n"
      ],
      "execution_count": 6,
      "outputs": [
        {
          "output_type": "execute_result",
          "data": {
            "text/plain": [
              "(7134, 8192)"
            ]
          },
          "metadata": {
            "tags": []
          },
          "execution_count": 6
        }
      ]
    },
    {
      "cell_type": "code",
      "metadata": {
        "id": "E2iq8WcfwRze",
        "colab_type": "code",
        "outputId": "76b02ada-b497-4a30-8300-dfecc018e3ef",
        "colab": {
          "base_uri": "https://localhost:8080/",
          "height": 56
        }
      },
      "source": [
        "line"
      ],
      "execution_count": 10,
      "outputs": [
        {
          "output_type": "execute_result",
          "data": {
            "text/plain": [
              "'I love the WD Red line  I have used all sizes  1TB  2TB  3TB  4TB  6TB in various NAS units  They all have held up well and I would recommend them at any time \\n'"
            ]
          },
          "metadata": {
            "tags": []
          },
          "execution_count": 10
        }
      ]
    },
    {
      "cell_type": "code",
      "metadata": {
        "id": "SBqBjMk2wRzg",
        "colab_type": "code",
        "outputId": "17158516-009b-4fd5-9769-05140a09cbef",
        "colab": {
          "base_uri": "https://localhost:8080/",
          "height": 152
        }
      },
      "source": [
        "import csv\n",
        "with open('Y.csv') as raw:\n",
        "    stars = np.array(list(csv.reader(raw,delimiter=',')))\n",
        "print(stars.reshape(7134,1))    "
      ],
      "execution_count": 8,
      "outputs": [
        {
          "output_type": "stream",
          "text": [
            "[['4']\n",
            " ['5']\n",
            " ['5']\n",
            " ...\n",
            " ['5']\n",
            " ['5']\n",
            " ['5']]\n"
          ],
          "name": "stdout"
        }
      ]
    },
    {
      "cell_type": "code",
      "metadata": {
        "id": "0qX8bpC7wRzk",
        "colab_type": "code",
        "colab": {}
      },
      "source": [
        "Y = stars \n",
        "from sklearn.utils import shuffle\n",
        "X,Y = shuffle(X,Y)\n",
        "Xtrain = X[:train_size]\n",
        "Xtest = X[train_size:]\n",
        "Ytrain = Y[:train_size] \n",
        "Ytest = Y[train_size:]"
      ],
      "execution_count": 0,
      "outputs": []
    },
    {
      "cell_type": "code",
      "metadata": {
        "id": "3cN24NJlwRzm",
        "colab_type": "code",
        "colab": {}
      },
      "source": [
        "from keras.models import Sequential\n",
        "from keras.layers import Dense, Dropout, Activation\n",
        "from keras.utils import to_categorical\n",
        "Ytrain = (Ytrain.astype(np.int) -1) >1\n",
        "Ytest = (Ytest.astype(np.int) -1) >1"
      ],
      "execution_count": 0,
      "outputs": []
    },
    {
      "cell_type": "code",
      "metadata": {
        "id": "zEbISUnzwRzo",
        "colab_type": "code",
        "outputId": "727fb447-4fe2-40d8-a782-9fed7925342f",
        "colab": {
          "base_uri": "https://localhost:8080/",
          "height": 36
        }
      },
      "source": [
        "from keras import regularizers\n",
        "from keras import initializers\n",
        "model = Sequential()\n",
        "model.add(Dense(1024, input_dim = 8192, kernel_regularizer=regularizers.l2(0.001),kernel_initializer='glorot_uniform'))\n",
        "model.add(Activation('relu'))\n",
        "#model.add(Dropout(rate=.8))\n",
        "model.add(Dense(128, kernel_regularizer=regularizers.l2(0.001),kernel_initializer='glorot_uniform'))\n",
        "#model.add(Dropout(rate=.8))\n",
        "model.add(Activation('relu'))\n",
        "model.add(Dense(1, kernel_regularizer=regularizers.l2(0.001),kernel_initializer='glorot_uniform'))\n",
        "model.add(Activation('sigmoid'))\n",
        "#model.compile(loss='categorical_crossentropy', optimizer='adam', metrics=['accuracy'])\n",
        "model.compile(loss = 'binary_crossentropy', optimizer = 'adam' , metrics = ['accuracy'])\n",
        "print(model.metrics_names)\n"
      ],
      "execution_count": 39,
      "outputs": [
        {
          "output_type": "stream",
          "text": [
            "['loss', 'acc']\n"
          ],
          "name": "stdout"
        }
      ]
    },
    {
      "cell_type": "code",
      "metadata": {
        "id": "ESK_ZhZ_wRzr",
        "colab_type": "code",
        "outputId": "c84b32da-7b74-4a01-eb4a-e5ab29a1dc8d",
        "colab": {
          "base_uri": "https://localhost:8080/",
          "height": 383
        }
      },
      "source": [
        "model.summary()"
      ],
      "execution_count": 40,
      "outputs": [
        {
          "output_type": "stream",
          "text": [
            "_________________________________________________________________\n",
            "Layer (type)                 Output Shape              Param #   \n",
            "=================================================================\n",
            "dense_13 (Dense)             (None, 1024)              8389632   \n",
            "_________________________________________________________________\n",
            "activation_13 (Activation)   (None, 1024)              0         \n",
            "_________________________________________________________________\n",
            "dense_14 (Dense)             (None, 128)               131200    \n",
            "_________________________________________________________________\n",
            "activation_14 (Activation)   (None, 128)               0         \n",
            "_________________________________________________________________\n",
            "dense_15 (Dense)             (None, 1)                 129       \n",
            "_________________________________________________________________\n",
            "activation_15 (Activation)   (None, 1)                 0         \n",
            "=================================================================\n",
            "Total params: 8,520,961\n",
            "Trainable params: 8,520,961\n",
            "Non-trainable params: 0\n",
            "_________________________________________________________________\n"
          ],
          "name": "stdout"
        }
      ]
    },
    {
      "cell_type": "code",
      "metadata": {
        "id": "yx_MpWRkwRzu",
        "colab_type": "code",
        "colab": {}
      },
      "source": [
        "batch_size = 8\n",
        "epochs = 20"
      ],
      "execution_count": 0,
      "outputs": []
    },
    {
      "cell_type": "code",
      "metadata": {
        "id": "ea7kj8jEwRzw",
        "colab_type": "code",
        "outputId": "309bd9c7-f6a0-483f-8092-e4cee113de19",
        "colab": {
          "base_uri": "https://localhost:8080/",
          "height": 943
        }
      },
      "source": [
        "history = model.fit(Xtrain, Ytrain, batch_size=batch_size, epochs=epochs, verbose=1, validation_split=0.1)\n",
        "score = model.evaluate(Xtest, Ytest, batch_size=batch_size, verbose=1)\n",
        "score1 = model.evaluate(Xtrain, Ytrain, batch_size=batch_size, verbose=1)\n",
        "print('Test loss:', score[0])\n",
        "print('Test accuracy:', score[1])\n",
        "print('Train loss:', score1[0])\n",
        "print('Train accuracy:', score1[1])"
      ],
      "execution_count": 137,
      "outputs": [
        {
          "output_type": "stream",
          "text": [
            "Train on 6164 samples, validate on 685 samples\n",
            "Epoch 1/20\n",
            "6164/6164 [==============================] - 8s 1ms/step - loss: 0.1709 - acc: 0.9658 - val_loss: 0.4215 - val_acc: 0.9080\n",
            "Epoch 2/20\n",
            "6164/6164 [==============================] - 8s 1ms/step - loss: 0.1576 - acc: 0.9705 - val_loss: 0.4487 - val_acc: 0.9066\n",
            "Epoch 3/20\n",
            "6164/6164 [==============================] - 8s 1ms/step - loss: 0.1318 - acc: 0.9839 - val_loss: 0.4751 - val_acc: 0.8847\n",
            "Epoch 4/20\n",
            "6164/6164 [==============================] - 8s 1ms/step - loss: 0.1216 - acc: 0.9870 - val_loss: 0.5143 - val_acc: 0.8905\n",
            "Epoch 5/20\n",
            "6164/6164 [==============================] - 8s 1ms/step - loss: 0.1156 - acc: 0.9912 - val_loss: 0.5363 - val_acc: 0.8599\n",
            "Epoch 6/20\n",
            "6164/6164 [==============================] - 8s 1ms/step - loss: 0.1190 - acc: 0.9883 - val_loss: 0.5061 - val_acc: 0.8920\n",
            "Epoch 7/20\n",
            "6164/6164 [==============================] - 8s 1ms/step - loss: 0.1388 - acc: 0.9802 - val_loss: 0.5154 - val_acc: 0.8818\n",
            "Epoch 8/20\n",
            "6164/6164 [==============================] - 8s 1ms/step - loss: 0.1291 - acc: 0.9860 - val_loss: 0.5030 - val_acc: 0.8978\n",
            "Epoch 9/20\n",
            "6164/6164 [==============================] - 8s 1ms/step - loss: 0.1193 - acc: 0.9886 - val_loss: 0.5252 - val_acc: 0.8803\n",
            "Epoch 10/20\n",
            "6164/6164 [==============================] - 8s 1ms/step - loss: 0.1182 - acc: 0.9890 - val_loss: 0.4978 - val_acc: 0.8891\n",
            "Epoch 11/20\n",
            "6164/6164 [==============================] - 8s 1ms/step - loss: 0.1296 - acc: 0.9838 - val_loss: 0.5047 - val_acc: 0.8934\n",
            "Epoch 12/20\n",
            "6164/6164 [==============================] - 8s 1ms/step - loss: 0.1259 - acc: 0.9862 - val_loss: 0.5017 - val_acc: 0.9066\n",
            "Epoch 13/20\n",
            "6164/6164 [==============================] - 8s 1ms/step - loss: 0.1216 - acc: 0.9875 - val_loss: 0.5019 - val_acc: 0.9022\n",
            "Epoch 14/20\n",
            "6164/6164 [==============================] - 8s 1ms/step - loss: 0.1192 - acc: 0.9875 - val_loss: 0.5164 - val_acc: 0.8832\n",
            "Epoch 15/20\n",
            "6164/6164 [==============================] - 8s 1ms/step - loss: 0.1199 - acc: 0.9899 - val_loss: 0.4770 - val_acc: 0.9124\n",
            "Epoch 16/20\n",
            "6164/6164 [==============================] - 8s 1ms/step - loss: 0.1186 - acc: 0.9888 - val_loss: 0.5065 - val_acc: 0.9066\n",
            "Epoch 17/20\n",
            "6164/6164 [==============================] - 8s 1ms/step - loss: 0.1228 - acc: 0.9870 - val_loss: 0.5284 - val_acc: 0.8920\n",
            "Epoch 18/20\n",
            "6164/6164 [==============================] - 8s 1ms/step - loss: 0.1183 - acc: 0.9886 - val_loss: 0.5046 - val_acc: 0.8993\n",
            "Epoch 19/20\n",
            "6164/6164 [==============================] - 8s 1ms/step - loss: 0.1186 - acc: 0.9896 - val_loss: 0.5261 - val_acc: 0.8832\n",
            "Epoch 20/20\n",
            "6164/6164 [==============================] - 8s 1ms/step - loss: 0.1175 - acc: 0.9899 - val_loss: 0.5063 - val_acc: 0.9007\n",
            "285/285 [==============================] - 0s 268us/step\n",
            "6849/6849 [==============================] - 2s 255us/step\n",
            "Test loss: 0.6525077384814881\n",
            "Test accuracy: 0.8631578951551203\n",
            "Train loss: 0.1472053337743777\n",
            "Train accuracy: 0.9848153015038692\n"
          ],
          "name": "stdout"
        }
      ]
    },
    {
      "cell_type": "code",
      "metadata": {
        "id": "3xMeGaCI1bvd",
        "colab_type": "code",
        "colab": {}
      },
      "source": [
        "from keras.models import load_model\n",
        "model=load_model('my_model.hdf5')\n"
      ],
      "execution_count": 0,
      "outputs": []
    },
    {
      "cell_type": "code",
      "metadata": {
        "id": "Jv4ZyEoH_WfP",
        "colab_type": "code",
        "colab": {
          "base_uri": "https://localhost:8080/",
          "height": 133
        },
        "outputId": "112b8771-04f5-4c21-d519-f20d52932953"
      },
      "source": [
        "score = model.evaluate(Xtest, Ytest, batch_size=batch_size, verbose=1)\n",
        "score1 = model.evaluate(Xtrain, Ytrain, batch_size=batch_size, verbose=1)\n",
        "print('Test loss:', score[0])\n",
        "print('Test accuracy:', score[1])\n",
        "print('Train loss:', score1[0])\n",
        "print('Train accuracy:', score1[1])"
      ],
      "execution_count": 141,
      "outputs": [
        {
          "output_type": "stream",
          "text": [
            "285/285 [==============================] - 0s 778us/step\n",
            "6849/6849 [==============================] - 2s 273us/step\n",
            "Test loss: 0.30712751934402865\n",
            "Test accuracy: 0.936842105472297\n",
            "Train loss: 0.3432559335215681\n",
            "Train accuracy: 0.921010366476858\n"
          ],
          "name": "stdout"
        }
      ]
    },
    {
      "cell_type": "code",
      "metadata": {
        "id": "-0_Ks0poNNoC",
        "colab_type": "code",
        "colab": {}
      },
      "source": [
        ""
      ],
      "execution_count": 0,
      "outputs": []
    }
  ]
}